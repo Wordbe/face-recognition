{
 "cells": [
  {
   "cell_type": "code",
   "execution_count": null,
   "metadata": {
    "colab": {
     "base_uri": "https://localhost:8080/",
     "height": 125
    },
    "colab_type": "code",
    "executionInfo": {
     "elapsed": 30595,
     "status": "ok",
     "timestamp": 1580566150396,
     "user": {
      "displayName": "Seongho Jin",
      "photoUrl": "https://lh3.googleusercontent.com/a-/AAuE7mA_dFrrE8SppzuLCX1Lpex8JPCUgdqu4ThVDjre=s64",
      "userId": "06991863526716869301"
     },
     "user_tz": -540
    },
    "id": "tXY6HQ_DYRLu",
    "outputId": "a544ac13-4421-43de-dd5d-7dc70d3f6a0a"
   },
   "outputs": [],
   "source": [
    "# Drive mount\n",
    "from google.colab import drive\n",
    "drive.mount('/content/drive')"
   ]
  },
  {
   "cell_type": "code",
   "execution_count": null,
   "metadata": {
    "colab": {
     "base_uri": "https://localhost:8080/",
     "height": 316
    },
    "colab_type": "code",
    "executionInfo": {
     "elapsed": 6319,
     "status": "ok",
     "timestamp": 1580566157122,
     "user": {
      "displayName": "Seongho Jin",
      "photoUrl": "https://lh3.googleusercontent.com/a-/AAuE7mA_dFrrE8SppzuLCX1Lpex8JPCUgdqu4ThVDjre=s64",
      "userId": "06991863526716869301"
     },
     "user_tz": -540
    },
    "id": "gJnqgtHLbdmz",
    "outputId": "838ac721-1c5e-446a-b4f5-fe79763fed7a"
   },
   "outputs": [],
   "source": [
    "# GPU Check\n",
    "!nvidia-smi"
   ]
  },
  {
   "cell_type": "code",
   "execution_count": null,
   "metadata": {
    "colab": {
     "base_uri": "https://localhost:8080/",
     "height": 1000
    },
    "colab_type": "code",
    "executionInfo": {
     "elapsed": 5962,
     "status": "ok",
     "timestamp": 1580567797756,
     "user": {
      "displayName": "Seongho Jin",
      "photoUrl": "https://lh3.googleusercontent.com/a-/AAuE7mA_dFrrE8SppzuLCX1Lpex8JPCUgdqu4ThVDjre=s64",
      "userId": "06991863526716869301"
     },
     "user_tz": -540
    },
    "id": "Yn3QWakHZEvE",
    "outputId": "3e3e28fc-2d99-4fe7-92a1-97ef20194a2f"
   },
   "outputs": [],
   "source": [
    "#####################################\n",
    "# Data Set                          #\n",
    "#####################################\n",
    "import os\n",
    "import glob\n",
    "import cv2\n",
    "import matplotlib.pyplot as plt\n",
    "import numpy as np\n",
    "import pandas as pd\n",
    "\n",
    "import torch\n",
    "from torch.utils.data import Dataset\n",
    "import torchvision.transforms as transforms\n",
    "from skimage import transform\n",
    "\n",
    "import imgaug as ia\n",
    "from imgaug import augmenters as iaa\n",
    "\n",
    "class FaceDataset(Dataset):\n",
    "    def __init__(self, train_table, train_dir, transform=None):\n",
    "        self.train_dir = train_dir\n",
    "        self.train_table = train_table\n",
    "        \n",
    "        self.H = 128 # Height\n",
    "        self.W = 128 # Width\n",
    "        self.transform = transform\n",
    "        \n",
    "    def __len__(self):\n",
    "        return len(self.train_table)\n",
    "    \n",
    "    def __getitem__(self, idx):\n",
    "        if torch.is_tensor(idx):\n",
    "            idx = idx.tolist() # to list\n",
    "        \n",
    "        filename = self.train_table['filename'][idx]\n",
    "        img_file = self.train_dir + filename\n",
    "        img = cv2.imread(img_file)\n",
    "        img = cv2.cvtColor(img, cv2.COLOR_BGR2RGB)\n",
    "        label = self.train_table['label'][idx]\n",
    "\n",
    "        sample = {'img' : img, 'label': label}\n",
    "\n",
    "        if self.transform:\n",
    "            sample = self.transform(sample)\n",
    "\n",
    "        return sample\n",
    "\n",
    "#####################################\n",
    "# Data Loader                       #\n",
    "#####################################\n",
    "\n",
    "from torch.utils.data import DataLoader\n",
    "\n",
    "root = 'drive/My Drive/team10'\n",
    "train_dir = root + '/face_images_128x128/'\n",
    "train_csv = glob.glob(root + '/csvs/*train*')[0]\n",
    "\n",
    "# Split train and validation data\n",
    "train_table = pd.read_csv(train_csv)\n",
    "valid_table = train_table.sample(frac=0.2, random_state=999)\n",
    "train_table.drop(index=valid_table.index, axis=0, inplace=True)\n",
    "\n",
    "# Reset index (0, 1, 2, ...)\n",
    "train_table.reset_index(inplace=True)\n",
    "valid_table.reset_index(inplace=True)\n",
    "\n",
    "BATCH_SIZE = 4\n",
    "\n",
    "train_dataset = FaceDataset(train_table=train_table, train_dir=train_dir)\n",
    "valid_dataset = FaceDataset(train_table=valid_table, train_dir=train_dir)\n",
    "train_loader = DataLoader(train_dataset, batch_size=BATCH_SIZE, shuffle=True)\n",
    "valid_loader = DataLoader(valid_dataset, batch_size=BATCH_SIZE, shuffle=False)\n",
    "\n",
    "for i in valid_loader:\n",
    "  print(np.shape(i['img']), np.shape(i['label']))\n",
    "\n",
    "  for j in range(BATCH_SIZE):\n",
    "    img = i['img'][j]\n",
    "    label = i['label'][j]\n",
    "\n",
    "    plt.imshow(img)\n",
    "    plt.show()\n",
    "    print(label)\n",
    "  break"
   ]
  },
  {
   "cell_type": "code",
   "execution_count": null,
   "metadata": {
    "colab": {},
    "colab_type": "code",
    "id": "2MOx5CAnvRY2"
   },
   "outputs": [],
   "source": [
    "#####################################\n",
    "# Model, Loss, Optimizer            #\n",
    "#####################################\n",
    "\n",
    "import torch\n",
    "import torch.nn as nn\n",
    "import torchvision\n",
    "import torchvision.models as models\n",
    "\n",
    "N_CLASS = 6\n",
    "LEARNING_RATE = 1e-4\n",
    "\n",
    "model = models.resnet18()\n",
    "model.fc = nn.Linear(in_features=512, out_features=N_CLASS, bias=True)\n",
    "\n",
    "crossEntropyLoss = nn.CrossEntropyLoss()\n",
    "optimizer = torch.optim.Adam(model.parameters(), lr=LEARNING_RATE)"
   ]
  },
  {
   "cell_type": "code",
   "execution_count": null,
   "metadata": {
    "colab": {
     "base_uri": "https://localhost:8080/",
     "height": 580
    },
    "colab_type": "code",
    "executionInfo": {
     "elapsed": 1039,
     "status": "error",
     "timestamp": 1580555432971,
     "user": {
      "displayName": "Seongho Jin",
      "photoUrl": "https://lh3.googleusercontent.com/a-/AAuE7mA_dFrrE8SppzuLCX1Lpex8JPCUgdqu4ThVDjre=s64",
      "userId": "06991863526716869301"
     },
     "user_tz": -540
    },
    "id": "k60EILO4vJFv",
    "outputId": "26aa998d-d1a8-42f0-b3b2-ef05ec04704d"
   },
   "outputs": [],
   "source": [
    "#####################################\n",
    "# Train                             #\n",
    "#####################################\n",
    "\n",
    "from tqdm import tqdm\n",
    "\n",
    "N_EPOCH = 100\n",
    "min_loss = float('inf')\n",
    "\n",
    "for ith, epoch in enumerate(range(N_EPOCH), start=1):\n",
    "  loss_per_epoch = 0.0\n",
    "  \n",
    "  for batch in tqdm(train_loader):\n",
    "    img = batch['img'].to(device, dtype=torch.float)\n",
    "    label = batch['label'].to(device, dtype=torch.float)\n",
    "    \n",
    "    print(np.shape(img))\n",
    "    print(label)\n",
    "    # optimizer.zero_grad()\n",
    "    # out = model(img)\n",
    "\n",
    "    # loss = crossEntropyLoss(out, label)\n",
    "    # loss.backward()\n",
    "    # optimizer.step()\n",
    "    # loss_per_epoch += loss\n",
    "    \n",
    "    # if loss < min_loss:\n",
    "    #     torch.save(model, weight_savename)\n",
    "    #     min_loss = loss\n",
    "    break\n",
    "  break\n",
    "          \n",
    "  loss_per_epoch /= len(train_loader)\n",
    "  print('epoch: {}, train loss: {}'.format(epoch + 1, loss_per_epoch))\n",
    "  \n",
    "  # # Log on the tensorboard\n",
    "  # writer.add_scalar('training loss',\n",
    "  #                     loss_per_epoch,\n",
    "  #                     epoch * ith)"
   ]
  }
 ],
 "metadata": {
  "accelerator": "GPU",
  "colab": {
   "collapsed_sections": [],
   "name": "face-classification.ipynb",
   "provenance": [],
   "toc_visible": true
  },
  "kernelspec": {
   "display_name": "Python 3",
   "language": "python",
   "name": "python3"
  },
  "language_info": {
   "codemirror_mode": {
    "name": "ipython",
    "version": 3
   },
   "file_extension": ".py",
   "mimetype": "text/x-python",
   "name": "python",
   "nbconvert_exporter": "python",
   "pygments_lexer": "ipython3",
   "version": "3.5.2"
  }
 },
 "nbformat": 4,
 "nbformat_minor": 1
}
