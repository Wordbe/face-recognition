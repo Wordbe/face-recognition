{
 "cells": [
  {
   "cell_type": "code",
   "execution_count": 4,
   "metadata": {},
   "outputs": [],
   "source": [
    "import pandas as pd\n",
    "root = 'D:/dataset/face-classification/'\n",
    "train_csv = pd.read_csv(root + 'face_classification_csv/ml_8_faceclassifier_train.csv')\n",
    "test_csv = pd.read_csv(root + 'face_classification_csv/ml_8_faceclassifier_test.csv')\n",
    "train_dir = root + 'face_images_128x128/'\n",
    "train_paths = list(train_dir + train_csv['filename'])\n",
    "test_paths = list(train_dir + test_csv['filename'])"
   ]
  },
  {
   "cell_type": "code",
   "execution_count": 21,
   "metadata": {},
   "outputs": [
    {
     "name": "stdout",
     "output_type": "stream",
     "text": [
      "(array([0, 1, 2, 4, 5]), array([ 116, 1727,  631, 2626,  400], dtype=int64))\n"
     ]
    },
    {
     "data": {
      "image/png": "[encoded data removed]",
      "text/plain": [
       "<Figure size 432x288 with 1 Axes>"
      ]
     },
     "metadata": {
      "needs_background": "light"
     },
     "output_type": "display_data"
    }
   ],
   "source": [
    "import numpy as np\n",
    "import matplotlib.pyplot as plt\n",
    "# Train labels\n",
    "train_labels = list(train_csv['label'])\n",
    "hists = np.unique(train_labels, return_counts=True)\n",
    "print(hists)\n",
    "plt.hist(train_labels, rwidth=0.8)\n",
    "plt.show()"
   ]
  },
  {
   "cell_type": "code",
   "execution_count": 26,
   "metadata": {},
   "outputs": [
    {
     "data": {
      "text/plain": [
       "array([0.04417365, 0.65765423, 0.24028941, 1.        , 0.15232292])"
      ]
     },
     "execution_count": 26,
     "metadata": {},
     "output_type": "execute_result"
    }
   ],
   "source": [
    "hists[1] / 2626"
   ]
  },
  {
   "cell_type": "code",
   "execution_count": 31,
   "metadata": {},
   "outputs": [
    {
     "name": "stdout",
     "output_type": "stream",
     "text": [
      "(array([0, 1, 2, 4, 5]), array([ 26, 355, 123, 522,  74], dtype=int64))\n"
     ]
    },
    {
     "data": {
      "image/png": "[encoded data removed]",
      "text/plain": [
       "<Figure size 432x288 with 1 Axes>"
      ]
     },
     "metadata": {
      "needs_background": "light"
     },
     "output_type": "display_data"
    },
    {
     "name": "stdout",
     "output_type": "stream",
     "text": [
      "[0.04980843 0.68007663 0.23563218 1.         0.14176245]\n"
     ]
    }
   ],
   "source": [
    "import glob\n",
    "\n",
    "root = 'D:/dataset/face-classification'\n",
    "train_dir = root + '/face_images_128x128/'\n",
    "train_csv = glob.glob(root + '/face_classification_csv/*train.csv')[0]\n",
    "\n",
    "# Split train and validation data\n",
    "train_table = pd.read_csv(train_csv)\n",
    "valid_table = train_table.sample(frac=0.2, random_state=999)\n",
    "# train_table.drop(index=valid_table.index, axis=0, inplace=True)\n",
    "\n",
    "# Reset index (0, 1, 2, ...)\n",
    "# train_table.reset_index(inplace=True)\n",
    "valid_table.reset_index(inplace=True)\n",
    "\n",
    "valid_labels = list(valid_table['label'])\n",
    "valid_hists = np.unique(valid_labels, return_counts=True)\n",
    "print(valid_hists)\n",
    "plt.hist(valid_labels, rwidth=0.8)\n",
    "plt.show()\n",
    "print(valid_hists[1] / 522)"
   ]
  }
 ],
 "metadata": {
  "kernelspec": {
   "display_name": "Python 3",
   "language": "python",
   "name": "python3"
  },
  "language_info": {
   "codemirror_mode": {
    "name": "ipython",
    "version": 3
   },
   "file_extension": ".py",
   "mimetype": "text/x-python",
   "name": "python",
   "nbconvert_exporter": "python",
   "pygments_lexer": "ipython3",
   "version": "3.5.2"
  }
 },
 "nbformat": 4,
 "nbformat_minor": 2
}
