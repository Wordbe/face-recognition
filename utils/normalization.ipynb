{
 "cells": [
  {
   "cell_type": "code",
   "execution_count": 27,
   "metadata": {},
   "outputs": [],
   "source": [
    "import pandas as pd\n",
    "root = 'D:/dataset/face-classification/'\n",
    "train_csv = pd.read_csv(root + 'face_classification_csv/ml_8_faceclassifier_train.csv')\n",
    "test_csv = pd.read_csv(root + 'face_classification_csv/ml_8_faceclassifier_test.csv')\n",
    "train_dir = root + 'face_images_128x128/'"
   ]
  },
  {
   "cell_type": "code",
   "execution_count": 31,
   "metadata": {},
   "outputs": [
    {
     "name": "stdout",
     "output_type": "stream",
     "text": [
      "1500th done\n"
     ]
    }
   ],
   "source": [
    "from IPython.display import clear_output\n",
    "import numpy as np\n",
    "import cv2\n",
    "\n",
    "def set_range_zero2one(img):\n",
    "    result_img = img - np.min(img)\n",
    "    result_img = result_img / np.max(result_img)\n",
    "    return result_img\n",
    "\n",
    "def get_mean_std_from_allImg(train_paths):\n",
    "    '''\n",
    "    모든 이미지셋 픽셀 값의 평균과 표준편차를 구함.\n",
    "    '''\n",
    "    colors = ['b', 'g', 'r']\n",
    "    m = {c: [] for c in colors}\n",
    "    v = {c: [] for c in colors}\n",
    "    \n",
    "    for i, path in enumerate(train_paths):\n",
    "        img = cv2.imread(path)\n",
    "        img = set_range_zero2one(img)\n",
    "        n_color = img.shape[2]\n",
    "        \n",
    "        for c, nth in zip(colors, range(n_color)):\n",
    "            m[c].append(np.mean(img[:, :, nth]))\n",
    "            v[c].append(np.var(img[:, :, nth]))\n",
    "        print('{}th done'.format(i+1))\n",
    "        clear_output(wait=True)\n",
    "    \n",
    "    result_mean, result_std = [], []\n",
    "    \n",
    "    for c in colors:\n",
    "        M = np.array(m[c])\n",
    "        V = np.array(v[c])\n",
    "        tot_m = np.mean(M)\n",
    "        tot_s = np.sqrt((np.sum(M*M) + np.sum(V)) / len(M) - tot_m*tot_m)\n",
    "        result_mean.append(tot_m)\n",
    "        result_std.append(tot_s)\n",
    "    return {'mean': result_mean, 'std': result_std}\n",
    "\n",
    "\n",
    "train_paths = list(train_dir + train_csv['filename'])\n",
    "test_paths = list(train_dir + test_csv['filename'])\n",
    "train_result = get_mean_std_from_allImg(train_paths)\n",
    "test_result = get_mean_std_from_allImg(test_paths)"
   ]
  },
  {
   "cell_type": "code",
   "execution_count": 32,
   "metadata": {},
   "outputs": [
    {
     "data": {
      "text/plain": [
       "({'mean': [0.37977362891997446, 0.42738061407253225, 0.5239860024529774],\n",
       "  'std': [0.25590995105180836, 0.25519093913452706, 0.2834680229098988]},\n",
       " {'mean': [0.38310616926626534, 0.4324560664275582, 0.5325000360890079],\n",
       "  'std': [0.2580127451979737, 0.2566113920988699, 0.28341811024667896]})"
      ]
     },
     "execution_count": 32,
     "metadata": {},
     "output_type": "execute_result"
    }
   ],
   "source": [
    "train_result, test_result"
   ]
  }
 ],
 "metadata": {
  "kernelspec": {
   "display_name": "Python 3",
   "language": "python",
   "name": "python3"
  },
  "language_info": {
   "codemirror_mode": {
    "name": "ipython",
    "version": 3
   },
   "file_extension": ".py",
   "mimetype": "text/x-python",
   "name": "python",
   "nbconvert_exporter": "python",
   "pygments_lexer": "ipython3",
   "version": "3.5.2"
  }
 },
 "nbformat": 4,
 "nbformat_minor": 2
}
