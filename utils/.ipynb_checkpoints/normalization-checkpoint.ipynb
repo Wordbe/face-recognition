{
 "cells": [
  {
   "cell_type": "code",
   "execution_count": 13,
   "metadata": {},
   "outputs": [],
   "source": [
    "import pandas as pd\n",
    "root = 'D:/dataset/face-classification/'\n",
    "train_csv = pd.read_csv(root + 'face_classification_csv/ml_8_faceclassifier_train.csv')\n",
    "train_dir = root + 'face_images_128x128/'"
   ]
  },
  {
   "cell_type": "code",
   "execution_count": 25,
   "metadata": {},
   "outputs": [
    {
     "name": "stdout",
     "output_type": "stream",
     "text": [
      "5500th done\n"
     ]
    }
   ],
   "source": [
    "from IPython.display import clear_output\n",
    "import numpy as np\n",
    "import cv2\n",
    "\n",
    "def get_mean_std_from_allImg(train_paths):\n",
    "    '''\n",
    "    모든 이미지셋 픽셀 값의 평균과 표준편차를 구함.\n",
    "    '''\n",
    "    colors = ['b', 'g', 'r']\n",
    "    m = {c: [] for c in colors}\n",
    "    v = {c: [] for c in colors}\n",
    "    \n",
    "    for i, path in enumerate(train_paths):\n",
    "        img = cv2.imread(path)\n",
    "        n_color = img.shape[2]\n",
    "        \n",
    "        for c, nth in zip(colors, range(n_color)):\n",
    "            m[c].append(np.mean(img[:, :, nth]))\n",
    "            v[c].append(np.var(img[:, :, nth]))\n",
    "        print('{}th done'.format(i+1))\n",
    "        clear_output(wait=True)\n",
    "    \n",
    "    result_mean, result_std = [], []\n",
    "    \n",
    "    for c in colors:\n",
    "        M = np.array(m[c])\n",
    "        V = np.array(v[c])\n",
    "        tot_m = np.mean(M)\n",
    "        tot_s = np.sqrt((np.sum(M*M) + np.sum(V)) / len(M) - tot_m*tot_m)\n",
    "        result_mean.append(tot_m)\n",
    "        result_var.append(tot_s)\n",
    "    return {'mean': result_mean, 'std': result_std}\n",
    "\n",
    "\n",
    "train_paths = list(train_dir + train_csv['filename'])\n",
    "result = get_mean_std_from_allImg(train_paths)"
   ]
  },
  {
   "cell_type": "code",
   "execution_count": 26,
   "metadata": {},
   "outputs": [
    {
     "data": {
      "text/plain": [
       "{'mean': [95.61740681596235, 107.36199821333452, 131.14086944025212],\n",
       " 'var': [64.13076628620735, 63.92756369480842, 70.74082253327454]}"
      ]
     },
     "execution_count": 26,
     "metadata": {},
     "output_type": "execute_result"
    }
   ],
   "source": [
    "result"
   ]
  }
 ],
 "metadata": {
  "kernelspec": {
   "display_name": "Python 3",
   "language": "python",
   "name": "python3"
  },
  "language_info": {
   "codemirror_mode": {
    "name": "ipython",
    "version": 3
   },
   "file_extension": ".py",
   "mimetype": "text/x-python",
   "name": "python",
   "nbconvert_exporter": "python",
   "pygments_lexer": "ipython3",
   "version": "3.5.2"
  }
 },
 "nbformat": 4,
 "nbformat_minor": 2
}
